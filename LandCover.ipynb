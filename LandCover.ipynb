{
 "metadata": {
  "language_info": {
   "codemirror_mode": {
    "name": "ipython",
    "version": 3
   },
   "file_extension": ".py",
   "mimetype": "text/x-python",
   "name": "python",
   "nbconvert_exporter": "python",
   "pygments_lexer": "ipython3",
   "version": "3.8.5"
  },
  "orig_nbformat": 2,
  "kernelspec": {
   "name": "pythonjvsc74a57bd06c774e4a0797282d450411f1e3b2c5748f1d5f5cf4285f2d8e2b999bb988dd8d",
   "display_name": "Python 3.8.5 64-bit ('.venv': venv)"
  },
  "metadata": {
   "interpreter": {
    "hash": "6c774e4a0797282d450411f1e3b2c5748f1d5f5cf4285f2d8e2b999bb988dd8d"
   }
  }
 },
 "nbformat": 4,
 "nbformat_minor": 2,
 "cells": [
  {
   "cell_type": "code",
   "execution_count": 1,
   "metadata": {},
   "outputs": [],
   "source": [
    "%load_ext autoreload\n",
    "%autoreload 2"
   ]
  },
  {
   "cell_type": "code",
   "execution_count": 2,
   "metadata": {},
   "outputs": [],
   "source": [
    "# Setup \n",
    "import os\n",
    "import urllib.parse\n",
    "import re\n",
    "from pathlib import Path\n",
    "import itertools as it\n",
    "from functools import partial\n",
    "from concurrent.futures import ThreadPoolExecutor\n",
    "\n",
    "from tqdm.notebook import tqdm\n",
    "from radiant_mlhub import client, get_session\n",
    "\n",
    "from Helpers import *\n",
    "\n",
    "os.environ['MLHUB_API_KEY'] = os.environ['RADIANT_API_KEY']"
   ]
  },
  {
   "cell_type": "code",
   "execution_count": 39,
   "metadata": {},
   "outputs": [
    {
     "output_type": "stream",
     "name": "stdout",
     "text": [
      "Description: LandCoverNet Labels\nLicense: CC-BY-4.0\nDOI: 10.34911/rdnt.d2ce8i\nCitation: Alemohammad S.H., Ballantyne A., Bromberg Gaber Y., Booth K., Nakanuku-Diggs L., & Miglarese A.H. (2020) \"LandCoverNet: A Global Land Cover Classification Training Dataset\", Version 1.0, Radiant MLHub. [Date Accessed] https://doi.org/10.34911/rdnt.d2ce8i\n"
     ]
    }
   ],
   "source": [
    "collection_id = 'ref_landcovernet_v1_labels'\n",
    "\n",
    "collection = client.get_collection(collection_id)\n",
    "print(f'Description: {collection[\"description\"]}')\n",
    "print(f'License: {collection[\"license\"]}')\n",
    "print(f'DOI: {collection[\"sci:doi\"]}')\n",
    "print(f'Citation: {collection[\"sci:citation\"]}')"
   ]
  },
  {
   "cell_type": "code",
   "execution_count": 40,
   "metadata": {},
   "outputs": [
    {
     "output_type": "stream",
     "name": "stdout",
     "text": [
      "Classes for labels\nf - (Semi) Natural Vegetation\nf - Artificial Bareground\nf - Cultivated Vegetation\nf - Natural Bareground\nf - No Data\nf - Permanent Snow/Ice\nf - Water\nf - Woody Vegetation\n"
     ]
    }
   ],
   "source": [
    "items = client.list_collection_items(collection_id, limit=1)\n",
    "\n",
    "first_item = next(items)\n",
    "all_classes = []\n",
    "\n",
    "label_classes = first_item['properties']['label:classes']\n",
    "for label_class in label_classes:\n",
    "    print(\"Classes for {}\".format(label_class[\"name\"]))\n",
    "    for c in sorted(label_class['classes']):\n",
    "        print(\"f - {}\".format(c))\n",
    "        all_classes.append(c)"
   ]
  },
  {
   "cell_type": "code",
   "execution_count": 37,
   "metadata": {},
   "outputs": [],
   "source": [
    "items_pattern = re.compile(r'^/mlhub/v1/collections/(\\w+)/items/(\\w+)$')\n",
    "\n",
    "def filter_item(item, classes=None, cloud_and_shadow=None, seasonal_snow=None):\n",
    "    item_labels = item['properties'].get('labels',[])\n",
    "    if classes is not None and not any(label in classes for label in item_labels):\n",
    "        return False\n",
    "\n",
    "    item_cloud_and_shadow = item['properties'].get('cloud_and_shadow','false') == 'true'\n",
    "    if cloud_and_shadow is not None and item_cloud_and_shadow != cloud_and_shadow:\n",
    "        return False\n",
    "\n",
    "    item_seasonal_snow = item['properties'].get('seasonal_snow','false') == 'true'\n",
    "    if seasonal_snow is not None and item_seasonal_snow != seasonal_snow:\n",
    "        return False\n",
    "\n",
    "    return True"
   ]
  },
  {
   "cell_type": "code",
   "execution_count": 36,
   "metadata": {},
   "outputs": [],
   "source": [
    "def get_items(collection_id, classes=None, cloud_and_shadow=None, seasonal_snow=None, max_items=1):\n",
    "    filter_fn = partial(filter_item, classes=classes, cloud_and_shadow=cloud_and_shadow, seasonal_snow=seasonal_snow)\n",
    "    filtered=filter(filter_fn, client.list_collection_items(collection_id, limit=None))\n",
    "    \n",
    "    yield from it.islice(filtered, max_items)"
   ]
  },
  {
   "cell_type": "code",
   "execution_count": 35,
   "metadata": {},
   "outputs": [],
   "source": [
    "def download(item, asset_key, output_dir='./data'):\n",
    "    asset = item.get('assets', {}).get(asset_key)\n",
    "    if asset is None:\n",
    "        print(f'Asset \"{asset_key}\" does not exist in this item')\n",
    "        return None\n",
    "    \n",
    "    download_url = asset.get('href')\n",
    "    if download_url is None:\n",
    "        print(f'Asset {asset_key} does not have an \"href\" property, cannot download.')\n",
    "        return None\n",
    "    \n",
    "    session = get_session()\n",
    "    r = session.get(download_url, allow_redirects=True, stream=True)\n",
    "    \n",
    "    filename = urllib.parse.urlsplit(r.url).path.split('/')[-1]\n",
    "    output_path = Path(output_dir) / filename\n",
    "\n",
    "    \n",
    "    with output_path.open('wb') as dst:\n",
    "        for chunk in r.iter_content(chunk_size=512 * 1024):\n",
    "            if chunk:\n",
    "                dst.write(chunk)"
   ]
  },
  {
   "cell_type": "code",
   "execution_count": 34,
   "metadata": {},
   "outputs": [],
   "source": [
    "def download_labels_and_source(item, assets=None, output_dir='./data'):\n",
    "    \n",
    "    def _get_download_args(link):\n",
    "        source_item_path = urllib.parse.urlsplit(link['href']).path\n",
    "        source_item_collection, source_item_id = items_pattern.fullmatch(source_item_path).groups()\n",
    "        source_item = client.get_collection_item(source_item_collection, source_item_id)\n",
    "\n",
    "        source_download_dir = download_dir / 'source'\n",
    "        source_download_dir.mkdir(exist_ok=True)\n",
    "        \n",
    "        matching_source_assets = [\n",
    "            asset \n",
    "            for asset in source_item.get('assets', {}) \n",
    "            if assets is None or asset in assets\n",
    "        ] \n",
    "        return [\n",
    "            (source_item, asset, source_download_dir) \n",
    "            for asset in matching_source_assets\n",
    "        ]\n",
    "\n",
    "    \n",
    "    download_args = []\n",
    "    \n",
    "    download_dir = Path(output_dir) / item['id']\n",
    "    download_dir.mkdir(parents=True, exist_ok=True)\n",
    "    \n",
    "    labels_download_dir = download_dir / 'labels'\n",
    "    labels_download_dir.mkdir(exist_ok=True)\n",
    "\n",
    "    matching_assets = [\n",
    "        asset \n",
    "        for asset in item.get('assets', {}) \n",
    "        if assets is None or asset in assets\n",
    "    ]\n",
    "\n",
    "    for asset in matching_assets:\n",
    "        download_args.append((item, asset, labels_download_dir))\n",
    "        \n",
    "    source_links = [link for link in item['links'] if link['rel'] == 'source']\n",
    "    \n",
    "    with ThreadPoolExecutor(max_workers=16) as executor:\n",
    "        for argument_batch in executor.map(_get_download_args, source_links):\n",
    "            download_args += argument_batch\n",
    "        \n",
    "    print(f'Downloading {len(download_args)} assets...')\n",
    "    with ThreadPoolExecutor(max_workers=16) as executor:\n",
    "        with tqdm(total=len(download_args)) as pbar:\n",
    "            for _ in executor.map(lambda triplet: download(*triplet), download_args):\n",
    "                pbar.update(1)"
   ]
  },
  {
   "cell_type": "code",
   "execution_count": 22,
   "metadata": {},
   "outputs": [
    {
     "output_type": "stream",
     "name": "stdout",
     "text": [
      "Downloading 440 assets...\n"
     ]
    },
    {
     "output_type": "display_data",
     "data": {
      "text/plain": "  0%|          | 0/440 [00:00<?, ?it/s]",
      "application/vnd.jupyter.widget-view+json": {
       "version_major": 2,
       "version_minor": 0,
       "model_id": "738015fe5b3547fca5a138a2ee8d0e02"
      }
     },
     "metadata": {}
    },
    {
     "output_type": "stream",
     "name": "stdout",
     "text": [
      "Downloading 428 assets...\n"
     ]
    },
    {
     "output_type": "display_data",
     "data": {
      "text/plain": "  0%|          | 0/428 [00:00<?, ?it/s]",
      "application/vnd.jupyter.widget-view+json": {
       "version_major": 2,
       "version_minor": 0,
       "model_id": "226dfdb920414e2aa8556190d25878b5"
      }
     },
     "metadata": {}
    },
    {
     "output_type": "stream",
     "name": "stdout",
     "text": [
      "Downloading 428 assets...\n"
     ]
    },
    {
     "output_type": "display_data",
     "data": {
      "text/plain": "  0%|          | 0/428 [00:00<?, ?it/s]",
      "application/vnd.jupyter.widget-view+json": {
       "version_major": 2,
       "version_minor": 0,
       "model_id": "3b5ed3b1eeed4109b5acbfe1193225a5"
      }
     },
     "metadata": {}
    },
    {
     "output_type": "stream",
     "name": "stdout",
     "text": [
      "Downloading 434 assets...\n"
     ]
    },
    {
     "output_type": "display_data",
     "data": {
      "text/plain": "  0%|          | 0/434 [00:00<?, ?it/s]",
      "application/vnd.jupyter.widget-view+json": {
       "version_major": 2,
       "version_minor": 0,
       "model_id": "cbae39b145a846cd9df0758bcff17f39"
      }
     },
     "metadata": {}
    },
    {
     "output_type": "stream",
     "name": "stdout",
     "text": [
      "Downloading 446 assets...\n"
     ]
    },
    {
     "output_type": "display_data",
     "data": {
      "text/plain": "  0%|          | 0/446 [00:00<?, ?it/s]",
      "application/vnd.jupyter.widget-view+json": {
       "version_major": 2,
       "version_minor": 0,
       "model_id": "751c848ae4a04365b520e45a5c11e483"
      }
     },
     "metadata": {}
    },
    {
     "output_type": "stream",
     "name": "stdout",
     "text": [
      "Downloading 440 assets...\n"
     ]
    },
    {
     "output_type": "display_data",
     "data": {
      "text/plain": "  0%|          | 0/440 [00:00<?, ?it/s]",
      "application/vnd.jupyter.widget-view+json": {
       "version_major": 2,
       "version_minor": 0,
       "model_id": "0b148429800c48508af5ce626012c1b3"
      }
     },
     "metadata": {}
    },
    {
     "output_type": "stream",
     "name": "stdout",
     "text": [
      "Downloading 440 assets...\n"
     ]
    },
    {
     "output_type": "display_data",
     "data": {
      "text/plain": "  0%|          | 0/440 [00:00<?, ?it/s]",
      "application/vnd.jupyter.widget-view+json": {
       "version_major": 2,
       "version_minor": 0,
       "model_id": "a9abea3c3f6e4f38baef5810767b4aa2"
      }
     },
     "metadata": {}
    }
   ],
   "source": [
    "trainItems = [get_items(\n",
    "    collection_id,\n",
    "    classes=[x],\n",
    "    max_items=1\n",
    ") for x in all_classes]\n",
    "for item in trainItems:\n",
    "    for i in item:\n",
    "        download_labels_and_source(i, assets=['labels','B02','B03','B04','B08','source_dates','CLD','SCL'], output_dir='./data/train')"
   ]
  },
  {
   "cell_type": "code",
   "execution_count": 69,
   "metadata": {
    "tags": []
   },
   "outputs": [
    {
     "output_type": "stream",
     "name": "stdout",
     "text": [
      "{'Water': 0, 'Artificial Bareground': 89737, 'Natural Bareground': 26148, 'Permanent Snow/Ice': 1625798, 'Woody Vegetation': 5141368, 'Cultivated Vegetation': 940987, '(Semi) Natural Vegetation': 141605, 'No Data': 437853}\n"
     ]
    }
   ],
   "source": [
    "from Helpers import FindTilesAndChips\n",
    "tcs = FindTilesAndChips('data/train')\n",
    "allCounts = {key: 0 for key in ClassIntMap.values()}\n",
    "for tile,chip in tcs:\n",
    "    d = DateCSVParser(tile,chip,prefix='data/train')\n",
    "    dates = d.GetDates()\n",
    "    for ind,date in dates:\n",
    "        counts = CountClassLabels(tile, chip, date, prefix='data/train')\n",
    "        for label, num in counts:\n",
    "            allCounts[label] += num\n",
    "print(allCounts)"
   ]
  },
  {
   "cell_type": "code",
   "execution_count": 47,
   "metadata": {
    "tags": []
   },
   "outputs": [
    {
     "output_type": "stream",
     "name": "stdout",
     "text": [
      "Downloading 440 assets...\n"
     ]
    },
    {
     "output_type": "display_data",
     "data": {
      "text/plain": "  0%|          | 0/440 [00:00<?, ?it/s]",
      "application/vnd.jupyter.widget-view+json": {
       "version_major": 2,
       "version_minor": 0,
       "model_id": "df99a2db4660423fbd2b989426e94418"
      }
     },
     "metadata": {}
    },
    {
     "output_type": "stream",
     "name": "stdout",
     "text": [
      "Downloading 428 assets...\n"
     ]
    },
    {
     "output_type": "display_data",
     "data": {
      "text/plain": "  0%|          | 0/428 [00:00<?, ?it/s]",
      "application/vnd.jupyter.widget-view+json": {
       "version_major": 2,
       "version_minor": 0,
       "model_id": "e536fe6b9e6a46ccbf96fba81bdff228"
      }
     },
     "metadata": {}
    }
   ],
   "source": [
    "testItems = get_items(\n",
    "    collection_id,\n",
    "    classes=None,\n",
    "    max_items=1\n",
    ")\n",
    "for item in testItems:\n",
    "    download_labels_and_source(item, assets=['labels','B02','B03','B04','B08','source_dates','CLD','SCL'], output_dir='./data/test')"
   ]
  },
  {
   "cell_type": "code",
   "execution_count": 67,
   "metadata": {},
   "outputs": [
    {
     "output_type": "stream",
     "name": "stdout",
     "text": [
      "dict_keys(['assets', 'bbox', 'collection', 'geometry', 'id', 'links', 'properties', 'stac_extensions', 'stac_version', 'type'])\nref_landcovernet_v1_labels\nref_landcovernet_v1_labels_29PKL_10\n{'datetime': '2018-07-01T00:00:00Z', 'label:classes': [{'classes': ['No Data', 'Water', 'Artificial Bareground', 'Natural Bareground', 'Permanent Snow/Ice', 'Woody Vegetation', 'Cultivated Vegetation', '(Semi) Natural Vegetation'], 'name': 'labels'}], 'label:description': 'Land Cover Type Classification', 'label:properties': ['labels'], 'label:type': 'raster', 'labels': ['Water', 'Artificial Bareground', 'Natural Bareground', 'Woody Vegetation', 'Cultivated Vegetation', '(Semi) Natural Vegetation'], 'validation:attemptedExtensions': ['label'], 'validation:errors': []}\n"
     ]
    }
   ],
   "source": [
    "print(item.keys())\n",
    "print(item['collection'])\n",
    "print(item['id'])\n",
    "print(item['properties'])"
   ]
  }
 ]
}
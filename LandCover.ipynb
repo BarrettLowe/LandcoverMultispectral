{
 "metadata": {
  "language_info": {
   "codemirror_mode": {
    "name": "ipython",
    "version": 3
   },
   "file_extension": ".py",
   "mimetype": "text/x-python",
   "name": "python",
   "nbconvert_exporter": "python",
   "pygments_lexer": "ipython3",
   "version": "3.8.5"
  },
  "orig_nbformat": 2,
  "kernelspec": {
   "name": "pythonjvsc74a57bd06c774e4a0797282d450411f1e3b2c5748f1d5f5cf4285f2d8e2b999bb988dd8d",
   "display_name": "Python 3.8.5  ('.venv': venv)"
  },
  "metadata": {
   "interpreter": {
    "hash": "6c774e4a0797282d450411f1e3b2c5748f1d5f5cf4285f2d8e2b999bb988dd8d"
   }
  }
 },
 "nbformat": 4,
 "nbformat_minor": 2,
 "cells": [
  {
   "cell_type": "code",
   "execution_count": null,
   "metadata": {},
   "outputs": [],
   "source": [
    "%load_ext autoreload\n",
    "%autoreload 2"
   ]
  },
  {
   "cell_type": "code",
   "execution_count": null,
   "metadata": {},
   "outputs": [],
   "source": [
    "# Setup \n",
    "\n",
    "from Helpers import *\n",
    "from DataCollection import *\n",
    "import pandas as pd\n",
    "from ModelBuilding import *\n",
    "from tensorflow import feature_column\n",
    "\n",
    "# If you need to run this yourself, set the environment variable or manually set your key for MLHub here\n",
    "os.environ['MLHUB_API_KEY'] = os.environ['RADIANT_API_KEY']\n",
    "NUM_TEST_TILES = 1"
   ]
  },
  {
   "cell_type": "code",
   "execution_count": null,
   "metadata": {},
   "outputs": [],
   "source": [
    "collection_id = 'ref_landcovernet_v1_labels'\n",
    "\n",
    "collection = client.get_collection(collection_id)\n",
    "print(f'Description: {collection[\"description\"]}')\n",
    "print(f'License: {collection[\"license\"]}')\n",
    "print(f'DOI: {collection[\"sci:doi\"]}')\n",
    "print(f'Citation: {collection[\"sci:citation\"]}')"
   ]
  },
  {
   "cell_type": "code",
   "execution_count": null,
   "metadata": {},
   "outputs": [],
   "source": [
    "items = client.list_collection_items(collection_id, limit=1)\n",
    "\n",
    "first_item = next(items)\n",
    "all_classes = []\n",
    "\n",
    "label_classes = first_item['properties']['label:classes']\n",
    "for label_class in label_classes:\n",
    "    print(\"Classes for {}\".format(label_class[\"name\"]))\n",
    "    for c in sorted(label_class['classes']):\n",
    "        print(\"f - {}\".format(c))\n",
    "        all_classes.append(c)"
   ]
  },
  {
   "cell_type": "code",
   "execution_count": null,
   "metadata": {
    "tags": []
   },
   "outputs": [],
   "source": [
    "# Collect training data\n",
    "trainItems = [get_items(\n",
    "    collection_id,\n",
    "    classes=[x],\n",
    "    max_items=1\n",
    ") for x in all_classes]\n",
    "trainIds = []\n",
    "for item in trainItems:\n",
    "    for i in item:\n",
    "        if i['id'] not in trainIds:\n",
    "            download_labels_and_source(i, assets=['labels','B02','B03','B04','B08','source_dates','CLD','SCL'], output_dir='./data/train')\n",
    "            trainIds.append(i['id'])\n",
    "print(\"Downloaded {} items\".format(len(trainIds)))"
   ]
  },
  {
   "cell_type": "code",
   "execution_count": null,
   "metadata": {
    "tags": []
   },
   "outputs": [],
   "source": [
    "from Helpers import FindTilesAndChips\n",
    "tcs = FindTilesAndChips('data/train')\n",
    "allCounts = {key: 0 for key in ClassIntMap.values()}\n",
    "for tile,chip in tcs:\n",
    "    d = DateCSVParser(tile,chip,prefix='data/train')\n",
    "    dates = d.GetDates()\n",
    "    for ind,date in dates:\n",
    "        counts = CountClassLabels(tile, chip, date, prefix='data/train')\n",
    "        for label, num in counts:\n",
    "            allCounts[label] += num\n",
    "print(allCounts)"
   ]
  },
  {
   "cell_type": "code",
   "execution_count": null,
   "metadata": {
    "tags": []
   },
   "outputs": [],
   "source": [
    "# Retrieve test items. Limit these to things NOT in the training set\n",
    "testItems = get_items(\n",
    "    collection_id,\n",
    "    classes=None,\n",
    "    max_items=None\n",
    ")\n",
    "testIds = []\n",
    "for item in testItems:\n",
    "    if item['id'] not in testIds and item['id'] not in trainIds:\n",
    "        testIds.append(item['id'])\n",
    "        download_labels_and_source(item, assets=['labels','B02','B03','B04','B08','source_dates','CLD','SCL'], output_dir='./data/test')\n",
    "    if len(testIds) >= NUM_TEST_TILES:\n",
    "        break"
   ]
  },
  {
   "cell_type": "code",
   "execution_count": null,
   "metadata": {},
   "outputs": [],
   "source": [
    "# Create the datasets for testing and training\n",
    "dfc = DFCreator()\n",
    "tcs = FindTilesAndChips('data/train')\n",
    "trainFrame = dfc.GenDF(tcs, prefix='data/train')\n",
    "testFrame = dfc.GenDF(FindTilesAndChips('data/test'), 'data/test')\n",
    "\n",
    "trainSet = tfdf.keras.pd_dataframe_to_tf_dataset(trainFrame, label=\"classification\")\n",
    "\n",
    "testSet = tfdf.keras.pd_dataframe_to_tf_dataset(testFrame, label=\"classification\")"
   ]
  },
  {
   "cell_type": "code",
   "execution_count": null,
   "metadata": {},
   "outputs": [],
   "source": [
    "# Create the model and fit to training set\n",
    "model = tfdf.keras.RandomForestModel()\n",
    "model.compile(metrics=['accuracy'])\n",
    "model.fit(x=trainSet)"
   ]
  },
  {
   "cell_type": "code",
   "execution_count": null,
   "metadata": {},
   "outputs": [],
   "source": [
    "# Evaluate the model\n",
    "evaluation = model.evaluate(testSet, return_dict=True)\n",
    "\n",
    "for name, val in evaluation.items():\n",
    "    print(\"{}: {}\".format(name,val))"
   ]
  }
 ]
}
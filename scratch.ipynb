{
 "metadata": {
  "language_info": {
   "codemirror_mode": {
    "name": "ipython",
    "version": 3
   },
   "file_extension": ".py",
   "mimetype": "text/x-python",
   "name": "python",
   "nbconvert_exporter": "python",
   "pygments_lexer": "ipython3",
   "version": "3.8.5"
  },
  "orig_nbformat": 2,
  "kernelspec": {
   "name": "pythonjvsc74a57bd06c774e4a0797282d450411f1e3b2c5748f1d5f5cf4285f2d8e2b999bb988dd8d",
   "display_name": "Python 3.8.5 64-bit ('.venv': venv)"
  },
  "metadata": {
   "interpreter": {
    "hash": "6c774e4a0797282d450411f1e3b2c5748f1d5f5cf4285f2d8e2b999bb988dd8d"
   }
  }
 },
 "nbformat": 4,
 "nbformat_minor": 2,
 "cells": [
  {
   "cell_type": "code",
   "execution_count": 1,
   "metadata": {},
   "outputs": [],
   "source": [
    "%load_ext autoreload\n",
    "%autoreload 2"
   ]
  },
  {
   "cell_type": "code",
   "execution_count": 2,
   "metadata": {},
   "outputs": [
    {
     "output_type": "stream",
     "name": "stdout",
     "text": [
      "36MWU\n20\n"
     ]
    }
   ],
   "source": [
    "# Dependencies\n",
    "from Helpers import *\n",
    "import pandas as pd\n",
    "from ModelBuilding import *\n",
    "from tensorflow import feature_column"
   ]
  },
  {
   "cell_type": "code",
   "execution_count": 4,
   "metadata": {},
   "outputs": [],
   "source": [
    "# Create the datasets for testing and training\n",
    "dfc = DFCreator()\n",
    "tcs = FindTilesAndChips('data/train')\n",
    "trainFrame = dfc.GenDF(tcs, prefix='data/train')\n",
    "testFrame = dfc.GenDF(FindTilesAndChips('data/test'), 'data/test')\n",
    "\n",
    "trainSet = tfdf.keras.pd_dataframe_to_tf_dataset(trainFrame, label=\"classification\")\n",
    "\n",
    "testSet = tfdf.keras.pd_dataframe_to_tf_dataset(testFrame, label=\"classification\")"
   ]
  },
  {
   "cell_type": "code",
   "execution_count": 47,
   "metadata": {},
   "outputs": [
    {
     "output_type": "stream",
     "name": "stdout",
     "text": [
      "24576/24576 [==============================] - 39s 2ms/step\n"
     ]
    },
    {
     "output_type": "execute_result",
     "data": {
      "text/plain": [
       "<tensorflow.python.keras.callbacks.History at 0x7ff586e68a60>"
      ]
     },
     "metadata": {},
     "execution_count": 47
    }
   ],
   "source": [
    "# Create the model and fit to training set\n",
    "model = tfdf.keras.RandomForestModel()\n",
    "model.compile(metrics=['accuracy'])\n",
    "model.fit(x=trainSet)"
   ]
  },
  {
   "cell_type": "code",
   "execution_count": 50,
   "metadata": {},
   "outputs": [
    {
     "output_type": "stream",
     "name": "stdout",
     "text": [
      "loss: 0.0\naccuracy: 0.03188641741871834\n"
     ]
    }
   ],
   "source": [
    "# Evaluate the model\n",
    "evaluation = model.evaluate(testSet, return_dict=True)\n",
    "\n",
    "for name, val in evaluation.items():\n",
    "    print(\"{}: {}\".format(name,val))"
   ]
  },
  {
   "cell_type": "code",
   "execution_count": 51,
   "metadata": {},
   "outputs": [
    {
     "output_type": "execute_result",
     "data": {
      "text/plain": [
       "array([0, 1, 2, 3, 4, 5, 6, 7], dtype=int8)"
      ]
     },
     "metadata": {},
     "execution_count": 51
    }
   ],
   "source": [
    "np.unique(trainFrame['classification'])"
   ]
  }
 ]
}